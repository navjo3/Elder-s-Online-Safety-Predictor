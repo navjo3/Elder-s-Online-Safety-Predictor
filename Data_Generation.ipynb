{
  "nbformat": 4,
  "nbformat_minor": 0,
  "metadata": {
    "colab": {
      "provenance": []
    },
    "kernelspec": {
      "name": "python3",
      "display_name": "Python 3"
    },
    "language_info": {
      "name": "python"
    }
  },
  "cells": [
    {
      "cell_type": "code",
      "execution_count": null,
      "metadata": {
        "colab": {
          "base_uri": "https://localhost:8080/"
        },
        "id": "9QGt7hK2FHM0",
        "outputId": "b37acdd0-bef7-459b-fb48-184e0b4206ac"
      },
      "outputs": [
        {
          "output_type": "stream",
          "name": "stdout",
          "text": [
            "Requirement already satisfied: pandas in /usr/local/lib/python3.10/dist-packages (2.2.2)\n",
            "Requirement already satisfied: numpy in /usr/local/lib/python3.10/dist-packages (1.26.4)\n",
            "Collecting faker\n",
            "  Downloading Faker-33.1.0-py3-none-any.whl.metadata (15 kB)\n",
            "Requirement already satisfied: scikit-learn in /usr/local/lib/python3.10/dist-packages (1.5.2)\n",
            "Requirement already satisfied: python-dateutil>=2.8.2 in /usr/local/lib/python3.10/dist-packages (from pandas) (2.8.2)\n",
            "Requirement already satisfied: pytz>=2020.1 in /usr/local/lib/python3.10/dist-packages (from pandas) (2024.2)\n",
            "Requirement already satisfied: tzdata>=2022.7 in /usr/local/lib/python3.10/dist-packages (from pandas) (2024.2)\n",
            "Requirement already satisfied: typing-extensions in /usr/local/lib/python3.10/dist-packages (from faker) (4.12.2)\n",
            "Requirement already satisfied: scipy>=1.6.0 in /usr/local/lib/python3.10/dist-packages (from scikit-learn) (1.13.1)\n",
            "Requirement already satisfied: joblib>=1.2.0 in /usr/local/lib/python3.10/dist-packages (from scikit-learn) (1.4.2)\n",
            "Requirement already satisfied: threadpoolctl>=3.1.0 in /usr/local/lib/python3.10/dist-packages (from scikit-learn) (3.5.0)\n",
            "Requirement already satisfied: six>=1.5 in /usr/local/lib/python3.10/dist-packages (from python-dateutil>=2.8.2->pandas) (1.16.0)\n",
            "Downloading Faker-33.1.0-py3-none-any.whl (1.9 MB)\n",
            "\u001b[2K   \u001b[90m━━━━━━━━━━━━━━━━━━━━━━━━━━━━━━━━━━━━━━━━\u001b[0m \u001b[32m1.9/1.9 MB\u001b[0m \u001b[31m38.3 MB/s\u001b[0m eta \u001b[36m0:00:00\u001b[0m\n",
            "\u001b[?25hInstalling collected packages: faker\n",
            "Successfully installed faker-33.1.0\n"
          ]
        }
      ],
      "source": [
        "pip install pandas numpy faker scikit-learn"
      ]
    },
    {
      "cell_type": "code",
      "source": [
        "import pandas as pd\n",
        "import numpy as np\n",
        "from faker import Faker\n",
        "from sklearn.preprocessing import LabelEncoder\n",
        "\n",
        "# Set random seed for reproducibility\n",
        "np.random.seed(28)\n",
        "\n",
        "# Initialize Faker\n",
        "faker = Faker()\n",
        "\n",
        "# Number of samples\n",
        "num_samples = 50\n",
        "\n",
        "# Generate synthetic data\n",
        "data = {\n",
        "    \"Age\": np.random.randint(60, 90, num_samples),\n",
        "    \"Gender\": np.random.choice([\"Male\", \"Female\"], num_samples, p=[0.48, 0.52]),\n",
        "    \"Education Level\": np.random.choice([\"High School\", \"College\", \"Graduate\"], num_samples, p=[0.2, 0.32, 0.48]),\n",
        "    \"Tech Savviness\": np.random.randint(1, 11, num_samples),\n",
        "    \"Hours Spent Online Daily\": np.round(np.random.uniform(0.5, 10, num_samples), 1),\n",
        "    \"Primary Device Used\": np.random.choice([\"Smartphone\", \"Laptop\", \"Tablet\"], num_samples, p=[0.4, 0.5, 0.1]),\n",
        "    \"Social Media Usage\": np.random.choice([\"Yes\", \"No\"], num_samples, p=[0.7, 0.3]),\n",
        "    \"Email Awareness\": np.random.randint(1, 11, num_samples),\n",
        "    \"Password Practices\": np.random.randint(1, 6, num_samples),\n",
        "    \"Two-Factor Authentication (2FA)\": np.random.choice([\"Yes\", \"No\"], num_samples, p=[0.3, 0.7]),\n",
        "    \"Scam History\": np.random.choice([\"Yes\", \"No\"], num_samples, p=[0.35, 0.65]),\n",
        "    \"Scam Type Encountered\": np.random.choice([\"Phishing\", \"Fake Tech Support\", \"Online Shopping Scam\", \"None\"], num_samples, p=[0.2, 0.05, 0.05, 0.7]),\n",
        "    \"Awareness Programs Attended\": np.random.choice([\"Yes\", \"No\"], num_samples, p=[0.3, 0.7]),\n",
        "    \"Confidence in Identifying Scams\": np.random.randint(1, 11, num_samples),\n",
        "    \"Recent Scam Attempts\": np.random.randint(0, 11, num_samples)\n",
        "}\n",
        "\n",
        "# Convert to DataFrame\n",
        "df = pd.DataFrame(data)\n",
        "\n",
        "# Scoring system for online safety\n",
        "df[\"Safety Score\"] = (\n",
        "    (df[\"Tech Savviness\"] * 2) +  # Higher weight for tech savviness\n",
        "    (df[\"Password Practices\"] * 1.5) +  # Medium weight for password practices\n",
        "    (df[\"Confidence in Identifying Scams\"] * 1.2) +  # Confidence level\n",
        "    (df[\"Email Awareness\"] * 1.0) +  # Awareness of phishing\n",
        "    df[\"Scam History\"].apply(lambda x: -2 if x == \"Yes\" else 2) +  # Negative score for scam history using apply\n",
        "    df[\"Two-Factor Authentication (2FA)\"].apply(lambda x: 2 if x == \"Yes\" else -1) +  # Positive for 2FA using apply\n",
        "    df[\"Awareness Programs Attended\"].apply(lambda x: 1 if x == \"Yes\" else -0.5) +  # Minor influence for awareness using apply\n",
        "    (df[\"Hours Spent Online Daily\"] * 0.8) +  # Moderate weight for hours spent online\n",
        "    df[\"Education Level\"].apply(lambda x: 0.5 if x == \"Graduate\" else (0.2 if x == \"College\" else 0))  # Minor role for education level using apply\n",
        ")\n",
        "\n",
        "# Define thresholds for safety based on scores\n",
        "safe_threshold = df[\"Safety Score\"].quantile(0.6)  # Top 60% of scores are \"Safe\"\n",
        "not_safe_threshold = df[\"Safety Score\"].quantile(0.4)  # Bottom 40% are \"Not Safe\"\n",
        "\n",
        "# Assign \"Safe\" or \"Not Safe\" based on thresholds\n",
        "df[\"Online Safety\"] = np.where(\n",
        "    df[\"Safety Score\"] >= safe_threshold, \"Safe\",\n",
        "    np.where(df[\"Safety Score\"] <= not_safe_threshold, \"Not Safe\", \"Moderate\")\n",
        ")\n",
        "\n",
        "# Save to CSV\n",
        "df.to_csv(\"elderly_online_safety.csv\", index=False)\n",
        "\n",
        "print(\"Synthetic dataset created and saved as 'elderly_online_safety.csv'.\")\n",
        "\n",
        "\n",
        "for col in [\"Tech Savviness\", \"Hours Spent Online Daily\", \"Scam Type Encountered\"]:\n",
        "    df.loc[df.sample(frac=0.1).index, col] = np.nan\n",
        "\n",
        "# Duplicates\n",
        "duplicates = df.sample(frac=0.05)\n",
        "df = pd.concat([df, duplicates], ignore_index=True)\n",
        "\n",
        "# Outliers\n",
        "outlier_indices = df.sample(frac=0.02).index\n",
        "df.loc[outlier_indices, \"Recent Scam Attempts\"] = df[\"Recent Scam Attempts\"].max() + np.random.randint(10, 20, len(outlier_indices))\n",
        "\n",
        "# Noisy Data\n",
        "noisy_indices = df.sample(frac=0.05).index\n",
        "df.loc[noisy_indices, \"Primary Device Used\"] = np.random.choice([\"Smartphone\", \"Laptop\", \"Tablet\"], len(noisy_indices))\n",
        "\n",
        "# Step 4: Save and Inspect\n",
        "df.to_csv(\"elderly_online_safety_with_inconsistencies.csv\", index=False)\n",
        "print(\"Synthetic dataset with inconsistencies created and saved as 'elderly_online_safety_with_inconsistencies.csv'.\")\n",
        "print(df.head())"
      ],
      "metadata": {
        "colab": {
          "base_uri": "https://localhost:8080/"
        },
        "id": "OKaVYOdoIvgp",
        "outputId": "27841798-4b4c-445c-c886-18871dd915c1"
      },
      "execution_count": null,
      "outputs": [
        {
          "output_type": "stream",
          "name": "stdout",
          "text": [
            "Synthetic dataset created and saved as 'elderly_online_safety.csv'.\n",
            "Synthetic dataset with inconsistencies created and saved as 'elderly_online_safety_with_inconsistencies.csv'.\n",
            "   Age  Gender Education Level  Tech Savviness  Hours Spent Online Daily  \\\n",
            "0   61    Male         College             6.0                       5.2   \n",
            "1   85  Female     High School             5.0                       2.7   \n",
            "2   65  Female        Graduate             6.0                       9.2   \n",
            "3   82  Female        Graduate             6.0                       1.1   \n",
            "4   80  Female        Graduate             6.0                       NaN   \n",
            "\n",
            "  Primary Device Used Social Media Usage  Email Awareness  Password Practices  \\\n",
            "0              Tablet                Yes                7                   2   \n",
            "1              Tablet                Yes                7                   4   \n",
            "2          Smartphone                Yes                8                   4   \n",
            "3              Laptop                Yes                5                   3   \n",
            "4              Laptop                Yes                6                   2   \n",
            "\n",
            "  Two-Factor Authentication (2FA) Scam History Scam Type Encountered  \\\n",
            "0                              No           No                  None   \n",
            "1                             Yes          Yes              Phishing   \n",
            "2                              No           No                  None   \n",
            "3                              No          Yes                   NaN   \n",
            "4                              No           No              Phishing   \n",
            "\n",
            "  Awareness Programs Attended  Confidence in Identifying Scams  \\\n",
            "0                          No                                9   \n",
            "1                          No                                3   \n",
            "2                          No                                6   \n",
            "3                          No                                5   \n",
            "4                          No                                2   \n",
            "\n",
            "   Recent Scam Attempts  Safety Score Online Safety  \n",
            "0                     6         37.66          Safe  \n",
            "1                     3         28.26      Not Safe  \n",
            "2                     6         41.56          Safe  \n",
            "3                     5         25.38      Not Safe  \n",
            "4                    10         25.84      Not Safe  \n"
          ]
        }
      ]
    }
  ]
}