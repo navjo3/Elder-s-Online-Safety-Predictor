{
  "nbformat": 4,
  "nbformat_minor": 0,
  "metadata": {
    "colab": {
      "provenance": []
    },
    "kernelspec": {
      "name": "python3",
      "display_name": "Python 3"
    },
    "language_info": {
      "name": "python"
    }
  },
  "cells": [
    {
      "cell_type": "code",
      "execution_count": null,
      "metadata": {
        "id": "q1g5aB86YH83"
      },
      "outputs": [],
      "source": []
    },
    {
      "cell_type": "markdown",
      "source": [
        "### ML"
      ],
      "metadata": {
        "id": "c--d1vdC3VcP"
      }
    },
    {
      "cell_type": "code",
      "source": [
        "from sklearn.model_selection import train_test_split\n",
        "from sklearn.linear_model import LogisticRegression\n",
        "from sklearn.metrics import accuracy_score, confusion_matrix, classification_report\n",
        "from sklearn.preprocessing import LabelEncoder, StandardScaler, OneHotEncoder # Import OneHotEncoder\n",
        "import pandas as pd\n",
        "import joblib\n",
        "\n",
        "\n",
        "# Define features and target\n",
        "X = df.drop(columns=[\"Online Safety\"])\n",
        "y = df[\"Online Safety\"]\n",
        "\n",
        "# Create a LabelEncoder for categorical features (if needed for y)\n",
        "# If 'Online Safety' is categorical, use LabelEncoder on it\n",
        "if pd.api.types.is_string_dtype(y):\n",
        "    encoder = LabelEncoder()\n",
        "    y = encoder.fit_transform(y)\n",
        "\n",
        "# Split data into training and testing sets\n",
        "X_train, X_test, y_train, y_test = train_test_split(X, y, test_size=0.2, random_state=42)\n",
        "\n",
        "# Separate numerical and categorical features\n",
        "numerical_features = X_train.select_dtypes(include=['number']).columns\n",
        "categorical_features = X_train.select_dtypes(include=['object']).columns\n",
        "\n",
        "# Scale numerical features using StandardScaler\n",
        "scaler = StandardScaler()\n",
        "X_train_num = scaler.fit_transform(X_train[numerical_features])\n",
        "X_test_num = scaler.transform(X_test[numerical_features])\n",
        "\n",
        "# One-hot encode categorical features\n",
        "encoder = OneHotEncoder(sparse_output=False, handle_unknown='ignore') # sparse=False for array output\n",
        "X_train_cat = encoder.fit_transform(X_train[categorical_features])\n",
        "X_test_cat = encoder.transform(X_test[categorical_features])\n",
        "\n",
        "# Combine scaled numerical and encoded categorical features\n",
        "X_train = pd.concat([pd.DataFrame(X_train_num, index=X_train.index, columns=numerical_features),\n",
        "                     pd.DataFrame(X_train_cat, index=X_train.index, columns=encoder.get_feature_names_out(categorical_features))], axis=1)\n",
        "X_test = pd.concat([pd.DataFrame(X_test_num, index=X_test.index, columns=numerical_features),\n",
        "                    pd.DataFrame(X_test_cat, index=X_test.index, columns=encoder.get_feature_names_out(categorical_features))], axis=1)\n",
        "\n",
        "\n",
        "# Initialize and train the Logistic Regression model with increased max_iter\n",
        "logreg = LogisticRegression(max_iter=1000, solver='saga')\n",
        "logreg.fit(X_train, y_train)\n",
        "\n",
        "# Predict on test data\n",
        "y_pred = logreg.predict(X_test)\n",
        "joblib.dump(dt, 'logistic_tree_model.pkl')\n",
        "# Evaluate the model\n",
        "print(\"Logistic Regression - Accuracy:\", accuracy_score(y_test, y_pred))"
      ],
      "metadata": {
        "colab": {
          "base_uri": "https://localhost:8080/"
        },
        "id": "xEYdENea3fKW",
        "outputId": "d3455ba5-b826-4a0c-e54f-fbb1bae244d0"
      },
      "execution_count": null,
      "outputs": [
        {
          "output_type": "stream",
          "name": "stdout",
          "text": [
            "Logistic Regression - Accuracy: 0.6363636363636364\n"
          ]
        }
      ]
    },
    {
      "cell_type": "code",
      "source": [
        "from sklearn.ensemble import RandomForestClassifier\n",
        "from sklearn.metrics import accuracy_score, confusion_matrix, classification_report\n",
        "\n",
        "# Initialize and train the Random Forest model\n",
        "rf = RandomForestClassifier(n_estimators=100, random_state=42)\n",
        "rf.fit(X_train, y_train)\n",
        "\n",
        "# Predict on test data\n",
        "y_pred = rf.predict(X_test)\n",
        "\n",
        "# Evaluate the model\n",
        "print(\"Random Forest - Accuracy:\", accuracy_score(y_test, y_pred))\n",
        "print(\"Confusion Matrix:\\n\", confusion_matrix(y_test, y_pred))\n",
        "print(\"Classification Report:\\n\", classification_report(y_test, y_pred))"
      ],
      "metadata": {
        "colab": {
          "base_uri": "https://localhost:8080/"
        },
        "id": "IKqC9uGF4hVG",
        "outputId": "febf0f45-d0a0-4814-924a-5131de905787"
      },
      "execution_count": null,
      "outputs": [
        {
          "output_type": "stream",
          "name": "stdout",
          "text": [
            "Random Forest - Accuracy: 0.6363636363636364\n",
            "Confusion Matrix:\n",
            " [[0 2 0]\n",
            " [0 4 1]\n",
            " [0 1 3]]\n",
            "Classification Report:\n",
            "               precision    recall  f1-score   support\n",
            "\n",
            "    Moderate       0.00      0.00      0.00         2\n",
            "    Not Safe       0.57      0.80      0.67         5\n",
            "        Safe       0.75      0.75      0.75         4\n",
            "\n",
            "    accuracy                           0.64        11\n",
            "   macro avg       0.44      0.52      0.47        11\n",
            "weighted avg       0.53      0.64      0.58        11\n",
            "\n"
          ]
        },
        {
          "output_type": "stream",
          "name": "stderr",
          "text": [
            "/usr/local/lib/python3.10/dist-packages/sklearn/metrics/_classification.py:1531: UndefinedMetricWarning: Precision is ill-defined and being set to 0.0 in labels with no predicted samples. Use `zero_division` parameter to control this behavior.\n",
            "  _warn_prf(average, modifier, f\"{metric.capitalize()} is\", len(result))\n",
            "/usr/local/lib/python3.10/dist-packages/sklearn/metrics/_classification.py:1531: UndefinedMetricWarning: Precision is ill-defined and being set to 0.0 in labels with no predicted samples. Use `zero_division` parameter to control this behavior.\n",
            "  _warn_prf(average, modifier, f\"{metric.capitalize()} is\", len(result))\n",
            "/usr/local/lib/python3.10/dist-packages/sklearn/metrics/_classification.py:1531: UndefinedMetricWarning: Precision is ill-defined and being set to 0.0 in labels with no predicted samples. Use `zero_division` parameter to control this behavior.\n",
            "  _warn_prf(average, modifier, f\"{metric.capitalize()} is\", len(result))\n"
          ]
        }
      ]
    },
    {
      "cell_type": "code",
      "source": [
        "# prompt: i want to run a decision tree model on the same\n",
        "\n",
        "import pandas as pd\n",
        "import joblib\n",
        "import matplotlib.pyplot as plt\n",
        "import seaborn as sns\n",
        "from sklearn.model_selection import train_test_split\n",
        "from sklearn.tree import DecisionTreeClassifier\n",
        "from sklearn.metrics import accuracy_score, confusion_matrix, classification_report\n",
        "from sklearn.preprocessing import LabelEncoder\n",
        "\n",
        "\n",
        "# Define features (X) and target (y)\n",
        "X = df.drop(columns=[\"Online Safety\"])\n",
        "y = df[\"Online Safety\"]\n",
        "\n",
        "# Encode categorical features\n",
        "categorical_features = X.select_dtypes(include=['object']).columns\n",
        "encoder = LabelEncoder()\n",
        "for feature in categorical_features:\n",
        "    X[feature] = encoder.fit_transform(X[feature])\n",
        "\n",
        "# Split data into training and testing sets\n",
        "X_train, X_test, y_train, y_test = train_test_split(X, y, test_size=0.2, random_state=42)\n",
        "\n",
        "# Initialize and train the Decision Tree Classifier\n",
        "dt = DecisionTreeClassifier(random_state=42)  # You can adjust hyperparameters here\n",
        "dt.fit(X_train, y_train)\n",
        "\n",
        "# Make predictions on the test set\n",
        "y_pred = dt.predict(X_test)\n",
        "\n",
        "# Evaluate the model\n",
        "print(\"Decision Tree - Accuracy:\", accuracy_score(y_test, y_pred))\n",
        "print(\"Confusion Matrix:\\n\", confusion_matrix(y_test, y_pred))\n",
        "print(\"Classification Report:\\n\", classification_report(y_test, y_pred))\n",
        "\n",
        "joblib.dump(dt, 'decision_tree_model.pkl')"
      ],
      "metadata": {
        "colab": {
          "base_uri": "https://localhost:8080/"
        },
        "id": "c5_fW41p4nHR",
        "outputId": "40a045b5-c2fe-48ad-be31-e95b18987416"
      },
      "execution_count": null,
      "outputs": [
        {
          "output_type": "stream",
          "name": "stdout",
          "text": [
            "Decision Tree - Accuracy: 0.5454545454545454\n",
            "Confusion Matrix:\n",
            " [[1 1 0]\n",
            " [0 3 2]\n",
            " [0 2 2]]\n",
            "Classification Report:\n",
            "               precision    recall  f1-score   support\n",
            "\n",
            "    Moderate       1.00      0.50      0.67         2\n",
            "    Not Safe       0.50      0.60      0.55         5\n",
            "        Safe       0.50      0.50      0.50         4\n",
            "\n",
            "    accuracy                           0.55        11\n",
            "   macro avg       0.67      0.53      0.57        11\n",
            "weighted avg       0.59      0.55      0.55        11\n",
            "\n"
          ]
        },
        {
          "output_type": "execute_result",
          "data": {
            "text/plain": [
              "['decision_tree_model.pkl']"
            ]
          },
          "metadata": {},
          "execution_count": 13
        }
      ]
    }
  ]
}