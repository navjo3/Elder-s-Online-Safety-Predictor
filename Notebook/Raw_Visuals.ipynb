{
  "nbformat": 4,
  "nbformat_minor": 0,
  "metadata": {
    "colab": {
      "provenance": []
    },
    "kernelspec": {
      "name": "python3",
      "display_name": "Python 3"
    },
    "language_info": {
      "name": "python"
    }
  },
  "cells": [
    {
      "cell_type": "markdown",
      "source": [
        "### Preprocessing-Visuals"
      ],
      "metadata": {
        "id": "BoRoGRbUo_uJ"
      }
    },
    {
      "cell_type": "code",
      "execution_count": null,
      "metadata": {
        "colab": {
          "base_uri": "https://localhost:8080/"
        },
        "collapsed": true,
        "id": "Y87PUhTojkzW",
        "outputId": "7a3a356f-bc49-4f00-e5d0-513a62eaf0e1"
      },
      "outputs": [
        {
          "output_type": "stream",
          "name": "stdout",
          "text": [
            "   Age  Gender Education Level  Tech Savviness  Hours Spent Online Daily  \\\n",
            "0   61    Male         College             6.0                       5.2   \n",
            "1   85  Female     High School             5.0                       2.7   \n",
            "2   65  Female        Graduate             6.0                       9.2   \n",
            "3   82  Female        Graduate             6.0                       1.1   \n",
            "4   80  Female        Graduate             6.0                       NaN   \n",
            "\n",
            "  Primary Device Used Social Media Usage  Email Awareness  Password Practices  \\\n",
            "0              Tablet                Yes                7                   2   \n",
            "1              Tablet                Yes                7                   4   \n",
            "2          Smartphone                Yes                8                   4   \n",
            "3              Laptop                Yes                5                   3   \n",
            "4              Laptop                Yes                6                   2   \n",
            "\n",
            "  Two-Factor Authentication (2FA) Scam History Scam Type Encountered  \\\n",
            "0                              No           No                   NaN   \n",
            "1                             Yes          Yes              Phishing   \n",
            "2                              No           No                   NaN   \n",
            "3                              No          Yes                   NaN   \n",
            "4                              No           No              Phishing   \n",
            "\n",
            "  Awareness Programs Attended  Confidence in Identifying Scams  \\\n",
            "0                          No                                9   \n",
            "1                          No                                3   \n",
            "2                          No                                6   \n",
            "3                          No                                5   \n",
            "4                          No                                2   \n",
            "\n",
            "   Recent Scam Attempts  Safety Score Online Safety  \n",
            "0                     6         37.66          Safe  \n",
            "1                     3         28.26      Not Safe  \n",
            "2                     6         41.56          Safe  \n",
            "3                     5         25.38      Not Safe  \n",
            "4                    10         25.84      Not Safe  \n"
          ]
        }
      ],
      "source": [
        "# prompt: load csv file\n",
        "\n",
        "import pandas as pd\n",
        "\n",
        "\n",
        "df = pd.read_csv('/content/elderly_online_safety_with_inconsistencies.csv')\n",
        "\n",
        "# Display the first few rows of the DataFrame (optional)\n",
        "print(df.head())\n"
      ]
    },
    {
      "cell_type": "code",
      "source": [
        "# prompt: histogram for 'Age'\n",
        "\n",
        "import pandas as pd\n",
        "import matplotlib.pyplot as plt\n",
        "\n",
        "# Replace 'your_file.csv' with the actual path to your CSV file.\n",
        "# If the file is in your current working directory, you can just use the filename.\n",
        "# If it's in Google Drive, mount your drive first and provide the full path.\n",
        "df = pd.read_csv('/content/elderly_online_safety_with_inconsistencies.csv')\n",
        "\n",
        "# Create the histogram\n",
        "plt.figure(figsize=(10, 6))  # Adjust figure size if needed\n",
        "plt.hist(df['Age'], bins=10, edgecolor='black')  # Adjust the number of bins as needed\n",
        "plt.xlabel('Age')\n",
        "plt.ylabel('Frequency')\n",
        "plt.title('Distribution of Age')\n",
        "plt.grid(axis='y', alpha=0.75)\n",
        "plt.show()"
      ],
      "metadata": {
        "id": "CtVp3FLml1x7"
      },
      "execution_count": null,
      "outputs": []
    },
    {
      "cell_type": "markdown",
      "source": [
        "### Visualising"
      ],
      "metadata": {
        "id": "ea7z7E9io8V2"
      }
    },
    {
      "cell_type": "code",
      "source": [
        "# Frequency distribution of categorical features\n",
        "categorical_features = [\"Primary Device Used\", \"Scam Type Encountered\"]\n",
        "for feature in categorical_features:\n",
        "    plt.figure(figsize=(8, 4))\n",
        "    df[feature].value_counts(dropna=False).plot(kind=\"bar\", color=\"lightgreen\")\n",
        "    plt.title(f\"Frequency Distribution of {feature}\")\n",
        "    plt.xlabel(feature)\n",
        "    plt.ylabel(\"Frequency\")\n",
        "    plt.show()\n"
      ],
      "metadata": {
        "id": "GonDbmsbmysf"
      },
      "execution_count": null,
      "outputs": []
    },
    {
      "cell_type": "code",
      "source": [
        "import matplotlib.pyplot as plt\n",
        "import seaborn as sns\n",
        "\n",
        "# Plot boxplots for numerical features with points overlaid\n",
        "numerical_features = [\"Tech Savviness\", \"Hours Spent Online Daily\", \"Recent Scam Attempts\"]\n",
        "for feature in numerical_features:\n",
        "    plt.figure(figsize=(8, 4))\n",
        "    sns.boxplot(x=df[feature], color='lightgray')  # Create the boxplot\n",
        "    sns.stripplot(x=df[feature], size=4, color='.3')  # Overlay points\n",
        "    plt.title(f\"Boxplot of {feature}\")\n",
        "    plt.show()\n"
      ],
      "metadata": {
        "id": "1gNg7ClSnP0x"
      },
      "execution_count": null,
      "outputs": []
    },
    {
      "cell_type": "code",
      "source": [
        "# Scatter plot of \"Hours Spent Online Daily\" vs. \"Recent Scam Attempts\"\n",
        "plt.figure(figsize=(8, 6))\n",
        "sns.scatterplot(x=df[\"Hours Spent Online Daily\"], y=df[\"Recent Scam Attempts\"])\n",
        "plt.title(\"Scatter Plot: Hours Spent Online vs. Recent Scam Attempts\")\n",
        "plt.xlabel(\"Hours Spent Online Daily\")\n",
        "plt.ylabel(\"Recent Scam Attempts\")\n",
        "plt.show()\n"
      ],
      "metadata": {
        "id": "Du26p9tRn851"
      },
      "execution_count": null,
      "outputs": []
    },
    {
      "cell_type": "code",
      "source": [
        "# Heatmap of missing values\n",
        "sns.heatmap(df.isnull(), cbar=False, cmap=\"viridis\")\n",
        "plt.title(\"Heatmap of Missing Values\")\n",
        "plt.show()\n"
      ],
      "metadata": {
        "id": "zcZJgpC-oNtN"
      },
      "execution_count": null,
      "outputs": []
    },
    {
      "cell_type": "code",
      "source": [
        "# Detect and visualize duplicates\n",
        "duplicate_rows = df[df.duplicated()]\n",
        "print(f\"Number of duplicate rows: {duplicate_rows.shape[0]}\")\n",
        "\n",
        "# Display a few duplicate rows\n",
        "if not duplicate_rows.empty:\n",
        "    print(\"Sample duplicate rows:\")\n",
        "    print(duplicate_rows.head())\n",
        "\n",
        "# Plot duplicate counts (if any)\n",
        "plt.figure(figsize=(8, 4))\n",
        "sns.barplot(x=[\"Duplicates\", \"Unique\"], y=[len(duplicate_rows), len(df) - len(duplicate_rows)])\n",
        "plt.title(\"Duplicate Count\")\n",
        "plt.show()\n"
      ],
      "metadata": {
        "colab": {
          "base_uri": "https://localhost:8080/",
          "height": 721
        },
        "collapsed": true,
        "id": "-s1hpcf9oDhP",
        "outputId": "315452f2-df29-496e-8f74-b5414ba2a105"
      },
      "execution_count": null,
      "outputs": [
        {
          "output_type": "stream",
          "name": "stdout",
          "text": [
            "Number of duplicate rows: 1\n",
            "Sample duplicate rows:\n",
            "    Age Gender Education Level  Tech Savviness  Hours Spent Online Daily  \\\n",
            "50   61   Male         College            10.0                       2.1   \n",
            "\n",
            "   Primary Device Used Social Media Usage  Email Awareness  \\\n",
            "50          Smartphone                Yes                3   \n",
            "\n",
            "    Password Practices Two-Factor Authentication (2FA) Scam History  \\\n",
            "50                   1                             Yes          Yes   \n",
            "\n",
            "   Scam Type Encountered Awareness Programs Attended  \\\n",
            "50                   NaN                         Yes   \n",
            "\n",
            "    Confidence in Identifying Scams  Recent Scam Attempts  Safety Score  \\\n",
            "50                                8                     2         36.98   \n",
            "\n",
            "   Online Safety  \n",
            "50          Safe  \n"
          ]
        },
        {
          "output_type": "display_data",
          "data": {
            "text/plain": [
              "<Figure size 800x400 with 1 Axes>"
            ],
            "image/png": "[encoded data removed]"
          },
          "metadata": {}
        }
      ]
    },
    {
      "cell_type": "code",
      "source": [
        "sns.pairplot(df[numerical_features].dropna())\n",
        "plt.title(\"Pairplot of Numerical Features\")\n",
        "plt.show()\n"
      ],
      "metadata": {
        "id": "cctTIDvwoh-n"
      },
      "execution_count": null,
      "outputs": []
    },
    {
      "cell_type": "code",
      "source": [
        "# Correlation of missingness\n",
        "missing_corr = df.isnull().corr()\n",
        "\n",
        "# Heatmap of missingness correlation\n",
        "plt.figure(figsize=(10, 6))\n",
        "sns.heatmap(missing_corr, annot=True, cmap=\"coolwarm\")\n",
        "plt.title(\"Correlation Heatmap of Missing Values\")\n",
        "plt.show()\n"
      ],
      "metadata": {
        "id": "iIGZoaypozpN"
      },
      "execution_count": null,
      "outputs": []
    }
  ]
}